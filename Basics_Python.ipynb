{
 "cells": [
  {
   "cell_type": "code",
   "execution_count": 1,
   "id": "0dafe165",
   "metadata": {},
   "outputs": [
    {
     "name": "stdout",
     "output_type": "stream",
     "text": [
      "hello world!!!\n"
     ]
    }
   ],
   "source": [
    "print(\"hello world!!!\")"
   ]
  },
  {
   "cell_type": "code",
   "execution_count": 2,
   "id": "fcee2e2f",
   "metadata": {},
   "outputs": [
    {
     "ename": "NameError",
     "evalue": "name 'Print' is not defined",
     "output_type": "error",
     "traceback": [
      "\u001b[1;31m---------------------------------------------------------------------------\u001b[0m",
      "\u001b[1;31mNameError\u001b[0m                                 Traceback (most recent call last)",
      "Cell \u001b[1;32mIn[2], line 1\u001b[0m\n\u001b[1;32m----> 1\u001b[0m \u001b[43mPrint\u001b[49m(\u001b[38;5;124m\"\u001b[39m\u001b[38;5;124mhello world!!!\u001b[39m\u001b[38;5;124m\"\u001b[39m)\n",
      "\u001b[1;31mNameError\u001b[0m: name 'Print' is not defined"
     ]
    }
   ],
   "source": [
    "Print(\"hello world!!!\")"
   ]
  },
  {
   "cell_type": "code",
   "execution_count": 3,
   "id": "ef96f461",
   "metadata": {},
   "outputs": [
    {
     "ename": "SyntaxError",
     "evalue": "invalid syntax. Perhaps you forgot a comma? (595588776.py, line 1)",
     "output_type": "error",
     "traceback": [
      "\u001b[1;36m  Cell \u001b[1;32mIn[3], line 1\u001b[1;36m\u001b[0m\n\u001b[1;33m    print(hello world!!!)\u001b[0m\n\u001b[1;37m          ^\u001b[0m\n\u001b[1;31mSyntaxError\u001b[0m\u001b[1;31m:\u001b[0m invalid syntax. Perhaps you forgot a comma?\n"
     ]
    }
   ],
   "source": [
    "print(hello world!!!)"
   ]
  },
  {
   "cell_type": "code",
   "execution_count": 4,
   "id": "ae2701bf",
   "metadata": {},
   "outputs": [
    {
     "name": "stdout",
     "output_type": "stream",
     "text": [
      "10\n"
     ]
    }
   ],
   "source": [
    "print(10)"
   ]
  },
  {
   "cell_type": "code",
   "execution_count": 5,
   "id": "bccc28a4",
   "metadata": {},
   "outputs": [
    {
     "name": "stdout",
     "output_type": "stream",
     "text": [
      "10.7\n"
     ]
    }
   ],
   "source": [
    "print(10.7)"
   ]
  },
  {
   "cell_type": "markdown",
   "id": "6c50ded4",
   "metadata": {},
   "source": [
    "### ; gfvxgbhsgsg"
   ]
  },
  {
   "cell_type": "markdown",
   "id": "62ca4f56",
   "metadata": {},
   "source": [
    "using # ; djfuf"
   ]
  },
  {
   "cell_type": "markdown",
   "id": "e25d9570",
   "metadata": {},
   "source": [
    "#### ; dfgbduyfb"
   ]
  },
  {
   "cell_type": "markdown",
   "id": "04371719",
   "metadata": {},
   "source": [
    "#####; dhgdnb"
   ]
  },
  {
   "cell_type": "markdown",
   "id": "6951f2a8",
   "metadata": {},
   "source": [
    "## ; dfhgudfhguf"
   ]
  },
  {
   "cell_type": "markdown",
   "id": "e8cab25d",
   "metadata": {},
   "source": [
    "# ; jhsdufhguf"
   ]
  },
  {
   "cell_type": "markdown",
   "id": "ec30e8e5",
   "metadata": {},
   "source": [
    "# variables"
   ]
  },
  {
   "cell_type": "code",
   "execution_count": 7,
   "id": "f3be7e74",
   "metadata": {},
   "outputs": [],
   "source": [
    "# variables"
   ]
  },
  {
   "cell_type": "code",
   "execution_count": 8,
   "id": "a423c0e5",
   "metadata": {},
   "outputs": [
    {
     "ename": "SyntaxError",
     "evalue": "invalid syntax (2875914350.py, line 2)",
     "output_type": "error",
     "traceback": [
      "\u001b[1;36m  Cell \u001b[1;32mIn[8], line 2\u001b[1;36m\u001b[0m\n\u001b[1;33m    first name = \"harshit\"\u001b[0m\n\u001b[1;37m          ^\u001b[0m\n\u001b[1;31mSyntaxError\u001b[0m\u001b[1;31m:\u001b[0m invalid syntax\n"
     ]
    }
   ],
   "source": [
    "### 1 variable should not have space\n",
    "first name = \"harshit\""
   ]
  },
  {
   "cell_type": "code",
   "execution_count": 10,
   "id": "32eb2786",
   "metadata": {},
   "outputs": [
    {
     "data": {
      "text/plain": [
       "'harshit'"
      ]
     },
     "execution_count": 10,
     "metadata": {},
     "output_type": "execute_result"
    }
   ],
   "source": [
    "### 2 variable should not start with A-Z OR _ \n",
    "firstname = \"harshit\"\n",
    "firstname"
   ]
  },
  {
   "cell_type": "code",
   "execution_count": 11,
   "id": "844eff8c",
   "metadata": {},
   "outputs": [
    {
     "data": {
      "text/plain": [
       "'data'"
      ]
     },
     "execution_count": 11,
     "metadata": {},
     "output_type": "execute_result"
    }
   ],
   "source": [
    "name=\"data\"\n",
    "name"
   ]
  },
  {
   "cell_type": "code",
   "execution_count": 12,
   "id": "b289e60e",
   "metadata": {},
   "outputs": [
    {
     "data": {
      "text/plain": [
       "'data'"
      ]
     },
     "execution_count": 12,
     "metadata": {},
     "output_type": "execute_result"
    }
   ],
   "source": [
    "_name=\"data\"\n",
    "_name"
   ]
  },
  {
   "cell_type": "code",
   "execution_count": 13,
   "id": "3b068719",
   "metadata": {},
   "outputs": [
    {
     "ename": "SyntaxError",
     "evalue": "cannot assign to expression here. Maybe you meant '==' instead of '='? (3032243266.py, line 1)",
     "output_type": "error",
     "traceback": [
      "\u001b[1;36m  Cell \u001b[1;32mIn[13], line 1\u001b[1;36m\u001b[0m\n\u001b[1;33m    +name=\"data\"\u001b[0m\n\u001b[1;37m    ^\u001b[0m\n\u001b[1;31mSyntaxError\u001b[0m\u001b[1;31m:\u001b[0m cannot assign to expression here. Maybe you meant '==' instead of '='?\n"
     ]
    }
   ],
   "source": [
    "+name=\"data\"\n",
    "+name"
   ]
  },
  {
   "cell_type": "code",
   "execution_count": 14,
   "id": "289c0cf2",
   "metadata": {},
   "outputs": [
    {
     "ename": "SyntaxError",
     "evalue": "invalid decimal literal (884806838.py, line 1)",
     "output_type": "error",
     "traceback": [
      "\u001b[1;36m  Cell \u001b[1;32mIn[14], line 1\u001b[1;36m\u001b[0m\n\u001b[1;33m    1name=\"data\"\u001b[0m\n\u001b[1;37m    ^\u001b[0m\n\u001b[1;31mSyntaxError\u001b[0m\u001b[1;31m:\u001b[0m invalid decimal literal\n"
     ]
    }
   ],
   "source": [
    "1name=\"data\"\n",
    "n1ame"
   ]
  },
  {
   "cell_type": "code",
   "execution_count": 15,
   "id": "db03cbbe",
   "metadata": {},
   "outputs": [
    {
     "ename": "SyntaxError",
     "evalue": "invalid decimal literal (2779461994.py, line 2)",
     "output_type": "error",
     "traceback": [
      "\u001b[1;36m  Cell \u001b[1;32mIn[15], line 2\u001b[1;36m\u001b[0m\n\u001b[1;33m    1name = \"harshit\"\u001b[0m\n\u001b[1;37m    ^\u001b[0m\n\u001b[1;31mSyntaxError\u001b[0m\u001b[1;31m:\u001b[0m invalid decimal literal\n"
     ]
    }
   ],
   "source": [
    "### 3 variable should not start number \n",
    "1name = \"harshit\"\n",
    "1name"
   ]
  },
  {
   "cell_type": "code",
   "execution_count": 16,
   "id": "191cd0ce",
   "metadata": {},
   "outputs": [
    {
     "data": {
      "text/plain": [
       "'data'"
      ]
     },
     "execution_count": 16,
     "metadata": {},
     "output_type": "execute_result"
    }
   ],
   "source": [
    "name1=\"data\"\n",
    "name1"
   ]
  },
  {
   "cell_type": "code",
   "execution_count": 17,
   "id": "4ca5435e",
   "metadata": {},
   "outputs": [
    {
     "data": {
      "text/plain": [
       "'data'"
      ]
     },
     "execution_count": 17,
     "metadata": {},
     "output_type": "execute_result"
    }
   ],
   "source": [
    "n2ame=\"data\"\n",
    "n2ame"
   ]
  },
  {
   "cell_type": "code",
   "execution_count": 18,
   "id": "1d49330d",
   "metadata": {},
   "outputs": [
    {
     "ename": "SyntaxError",
     "evalue": "cannot assign to expression here. Maybe you meant '==' instead of '='? (1435866765.py, line 2)",
     "output_type": "error",
     "traceback": [
      "\u001b[1;36m  Cell \u001b[1;32mIn[18], line 2\u001b[1;36m\u001b[0m\n\u001b[1;33m    first+name=\"one\"\u001b[0m\n\u001b[1;37m    ^\u001b[0m\n\u001b[1;31mSyntaxError\u001b[0m\u001b[1;31m:\u001b[0m cannot assign to expression here. Maybe you meant '==' instead of '='?\n"
     ]
    }
   ],
   "source": [
    "### 4 only allowed special character is _\n",
    "first+name=\"one\"\n",
    "first+name"
   ]
  },
  {
   "cell_type": "code",
   "execution_count": 19,
   "id": "08b5fdda",
   "metadata": {},
   "outputs": [
    {
     "data": {
      "text/plain": [
       "'one'"
      ]
     },
     "execution_count": 19,
     "metadata": {},
     "output_type": "execute_result"
    }
   ],
   "source": [
    "first_name=\"one\"\n",
    "first_name"
   ]
  },
  {
   "cell_type": "markdown",
   "id": "1ecfa728",
   "metadata": {},
   "source": [
    "# data types"
   ]
  },
  {
   "cell_type": "code",
   "execution_count": 20,
   "id": "7ae13d5f",
   "metadata": {},
   "outputs": [
    {
     "data": {
      "text/plain": [
       "float"
      ]
     },
     "execution_count": 20,
     "metadata": {},
     "output_type": "execute_result"
    }
   ],
   "source": [
    "x=10.5\n",
    "type(x)"
   ]
  },
  {
   "cell_type": "code",
   "execution_count": 21,
   "id": "d4d4d9a5",
   "metadata": {},
   "outputs": [
    {
     "data": {
      "text/plain": [
       "int"
      ]
     },
     "execution_count": 21,
     "metadata": {},
     "output_type": "execute_result"
    }
   ],
   "source": [
    "y=10\n",
    "type(y)"
   ]
  },
  {
   "cell_type": "code",
   "execution_count": 23,
   "id": "ea38de6f",
   "metadata": {},
   "outputs": [
    {
     "data": {
      "text/plain": [
       "bool"
      ]
     },
     "execution_count": 23,
     "metadata": {},
     "output_type": "execute_result"
    }
   ],
   "source": [
    "z=True\n",
    "type(z)"
   ]
  },
  {
   "cell_type": "code",
   "execution_count": 24,
   "id": "99d43075",
   "metadata": {},
   "outputs": [
    {
     "data": {
      "text/plain": [
       "bool"
      ]
     },
     "execution_count": 24,
     "metadata": {},
     "output_type": "execute_result"
    }
   ],
   "source": [
    "Z=\"True\"\n",
    "type(z)"
   ]
  },
  {
   "cell_type": "code",
   "execution_count": 27,
   "id": "c59f4fd9",
   "metadata": {},
   "outputs": [
    {
     "data": {
      "text/plain": [
       "10"
      ]
     },
     "execution_count": 27,
     "metadata": {},
     "output_type": "execute_result"
    }
   ],
   "source": [
    "x=10\n",
    "type(x) #always print last value\n",
    "x"
   ]
  },
  {
   "cell_type": "code",
   "execution_count": 28,
   "id": "17ed1713",
   "metadata": {},
   "outputs": [
    {
     "data": {
      "text/plain": [
       "(10, int)"
      ]
     },
     "execution_count": 28,
     "metadata": {},
     "output_type": "execute_result"
    }
   ],
   "source": [
    "x,type(x)"
   ]
  },
  {
   "cell_type": "code",
   "execution_count": 29,
   "id": "7f3d89c1",
   "metadata": {},
   "outputs": [
    {
     "data": {
      "text/plain": [
       "10"
      ]
     },
     "execution_count": 29,
     "metadata": {},
     "output_type": "execute_result"
    }
   ],
   "source": [
    "x,y=10,20\n",
    "y\n",
    "x"
   ]
  },
  {
   "cell_type": "code",
   "execution_count": 30,
   "id": "2bc242fb",
   "metadata": {},
   "outputs": [
    {
     "data": {
      "text/plain": [
       "(20, 10)"
      ]
     },
     "execution_count": 30,
     "metadata": {},
     "output_type": "execute_result"
    }
   ],
   "source": [
    "y,x"
   ]
  },
  {
   "cell_type": "code",
   "execution_count": 31,
   "id": "45d69c2a",
   "metadata": {},
   "outputs": [
    {
     "data": {
      "text/plain": [
       "(10, 20)"
      ]
     },
     "execution_count": 31,
     "metadata": {},
     "output_type": "execute_result"
    }
   ],
   "source": [
    "x,y"
   ]
  },
  {
   "cell_type": "code",
   "execution_count": 36,
   "id": "b797a64a",
   "metadata": {},
   "outputs": [
    {
     "data": {
      "text/plain": [
       "('harshit', 20.0, str, float)"
      ]
     },
     "execution_count": 36,
     "metadata": {},
     "output_type": "execute_result"
    }
   ],
   "source": [
    "# write a program to print your name , data type of name , print age and its data type\n",
    "x=\"harshit\"\n",
    "y=20.0\n",
    "x,y,type(x),type(y)"
   ]
  },
  {
   "cell_type": "code",
   "execution_count": null,
   "id": "cb81a6a4",
   "metadata": {},
   "outputs": [],
   "source": []
  }
 ],
 "metadata": {
  "kernelspec": {
   "display_name": "Python 3 (ipykernel)",
   "language": "python",
   "name": "python3"
  },
  "language_info": {
   "codemirror_mode": {
    "name": "ipython",
    "version": 3
   },
   "file_extension": ".py",
   "mimetype": "text/x-python",
   "name": "python",
   "nbconvert_exporter": "python",
   "pygments_lexer": "ipython3",
   "version": "3.10.9"
  }
 },
 "nbformat": 4,
 "nbformat_minor": 5
}
